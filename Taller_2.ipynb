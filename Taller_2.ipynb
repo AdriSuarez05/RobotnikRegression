{
 "cells": [
  {
   "cell_type": "markdown",
   "metadata": {
    "id": "X6b99KStm6K9"
   },
   "source": [
    "# Taller 2: Regresión Robotnik\n",
    "\n",
    "### Estudiante: Adriana Suarez\n",
    "### ID: 502197\n",
    "### email: adriana.suarezb@upb.edu.co\n",
    "\n",
    "Ejercicio inspirado en Reggie's Linear Regression de Codecademy (2022) y referencias a películas y videojuegos.\n",
    "\n",
    "El Dr. Robotnik ha sido contratado para capturar a un erizo azúl que está provocando fluctuaciones eléctricas en un pueblo lejano de Norteamérica. Se sospecha que su origen sea de naturaleza extraterrestre. Al verse frente a frente, Robotnik se mostró fascinado por la criatura y decidió capturarla para sus experimentos. Desafortunadamente, el erizo demostró poseer una velocidad nunca antes registrada por un organismo vivo, además de la capacidad de liberar energía a medida que incrementaba su velocidad. \n",
    "\n",
    "Después de una aplastante derrota a todos sus drones, Robotnik regresa a su laboratorio para diseñar un dispositivo que pueda soportar la fuerza de choque del erizo. Para ello, necesitará modelar la relación entre la velocidad y la cantidad de energía liberada por el erizo a través de una regresión lineal a partir de los datos recolectados por sus destruidos drones. \n",
    "\n",
    "Una _regresión lineal_ se basa en un grupo de puntos sobre una gráfica sobre la cual se encuentra una línea que se aproxime a estos puntos minimizando el _error_ o la distancia de cada punto hacia la línea. \n",
    "\n",
    "El objetivo de este taller es utilizar ciclos, listas y operaciones aritméticas para crear una función que encuentre la línea de mejor ajuste para una serie de datos dados (en este caso, la velocidad y energía liberada por el erizo). "
   ]
  },
  {
   "cell_type": "markdown",
   "metadata": {
    "id": "Xr0wJ-c2m6LI"
   },
   "source": [
    "## Parte 1: Cálculo del Error"
   ]
  },
  {
   "cell_type": "markdown",
   "metadata": {
    "id": "MgM4G80Vm6LJ"
   },
   "source": [
    "La línea que deseamos encontrar es de la forma:\n",
    "\n",
    "$$y = mx + b$$\n",
    "\n",
    "donde $m$ es la pendiente de la línea y $b$ el intercepto donde la línea se cruza con el eje $y$.\n",
    "\n",
    "Crea una función llamada `get_y()` que reciba como parámetros `m`, `b` y `x` y retorne el valor de `y` para esa `x`. "
   ]
  },
  {
   "cell_type": "code",
   "execution_count": null,
   "metadata": {
    "id": "yUc__-Vwm6LK"
   },
   "outputs": [],
   "source": [
    "def get_y(m, b, x):\n",
    "    return m * x + b"
   ]
  },
  {
   "cell_type": "markdown",
   "metadata": {
    "id": "mqoq6ZICm6LN"
   },
   "source": [
    "Robotnik quiere probar muchos valores de `m` y `b` para determinar cuál produce la línea con el menor error. \n",
    "\n",
    "Para calcular el error entre un punto y una línea, requiere una función llamada `calculate_error()`, que toma `m`, `b` y un punto llamado `point` que es una pareja de valores `(x, y)` (la velocidad y la energía medidas por los drones). La función debe retornar la distancia entre la línea y el punto.  \n",
    "\n",
    "Para encontrar esta distancia, considere lo siguiente:\n",
    "1. Obtenga el valor de $x$ del punto y almacénelo en una variable llamada `x_point`.\n",
    "2. Obtenga el valor de $y$ del punto y almacénelo en una variable llamada `y_point`.\n",
    "3. Utilice la función `get_y()` para obtener el valor de $y$ calculado con el valor de `x_point`.\n",
    "4. Calcule la diferencia entre la $y$ calculada con la función `get_y()` y `y_point`\n",
    "5. Retorne el valor absoluto de la distancia (puede usar la función `abs()` para hacer esto)."
   ]
  },
  {
   "cell_type": "code",
   "execution_count": 6,
   "metadata": {
    "id": "xKBHPxXim6LP"
   },
   "outputs": [],
   "source": [
    "# Función calculate_error(m, b, point)\n",
    "def calculate_error(m, b, point):\n",
    "    \n",
    "    x_point, y_point = point\n",
    "    \n",
    "    y = get_y(m, b, x_point)\n",
    "    \n",
    "    diferencia = y - y_point\n",
    "    \n",
    "    return abs(diferencia)\n"
   ]
  },
  {
   "cell_type": "markdown",
   "metadata": {
    "id": "hZjKVO6Om6LQ"
   },
   "source": [
    "Probemos la función:"
   ]
  },
  {
   "cell_type": "code",
   "execution_count": 7,
   "metadata": {
    "id": "ayv_FdJEm6LR"
   },
   "outputs": [
    {
     "ename": "NameError",
     "evalue": "name 'get_y' is not defined",
     "output_type": "error",
     "traceback": [
      "\u001b[1;31m---------------------------------------------------------------------------\u001b[0m",
      "\u001b[1;31mNameError\u001b[0m                                 Traceback (most recent call last)",
      "Input \u001b[1;32mIn [7]\u001b[0m, in \u001b[0;36m<cell line: 2>\u001b[1;34m()\u001b[0m\n\u001b[0;32m      1\u001b[0m \u001b[38;5;66;03m#En esta línea, y = x, así que el punto (3, 3) debería estar sobre la línea. El error debe ser cero (0):\u001b[39;00m\n\u001b[1;32m----> 2\u001b[0m \u001b[38;5;28mprint\u001b[39m(\u001b[43mcalculate_error\u001b[49m\u001b[43m(\u001b[49m\u001b[38;5;241;43m1\u001b[39;49m\u001b[43m,\u001b[49m\u001b[43m \u001b[49m\u001b[38;5;241;43m0\u001b[39;49m\u001b[43m,\u001b[49m\u001b[43m \u001b[49m\u001b[43m(\u001b[49m\u001b[38;5;241;43m3\u001b[39;49m\u001b[43m,\u001b[49m\u001b[43m \u001b[49m\u001b[38;5;241;43m3\u001b[39;49m\u001b[43m)\u001b[49m\u001b[43m)\u001b[49m)\n\u001b[0;32m      4\u001b[0m \u001b[38;5;66;03m#El punto (3, 4) debería estar a 1 unidad de distancia de la línea y = x:\u001b[39;00m\n\u001b[0;32m      5\u001b[0m \u001b[38;5;28mprint\u001b[39m(calculate_error(\u001b[38;5;241m1\u001b[39m, \u001b[38;5;241m0\u001b[39m, (\u001b[38;5;241m3\u001b[39m, \u001b[38;5;241m4\u001b[39m)))\n",
      "Input \u001b[1;32mIn [6]\u001b[0m, in \u001b[0;36mcalculate_error\u001b[1;34m(m, b, point)\u001b[0m\n\u001b[0;32m      2\u001b[0m \u001b[38;5;28;01mdef\u001b[39;00m \u001b[38;5;21mcalculate_error\u001b[39m(m, b, point):\n\u001b[0;32m      4\u001b[0m     x_point, y_point \u001b[38;5;241m=\u001b[39m point\n\u001b[1;32m----> 6\u001b[0m     y \u001b[38;5;241m=\u001b[39m \u001b[43mget_y\u001b[49m(m, b, x_point)\n\u001b[0;32m      8\u001b[0m     diferencia \u001b[38;5;241m=\u001b[39m y \u001b[38;5;241m-\u001b[39m y_point\n\u001b[0;32m     10\u001b[0m     \u001b[38;5;28;01mreturn\u001b[39;00m \u001b[38;5;28mabs\u001b[39m(diferencia)\n",
      "\u001b[1;31mNameError\u001b[0m: name 'get_y' is not defined"
     ]
    }
   ],
   "source": [
    "#En esta línea, y = x, así que el punto (3, 3) debería estar sobre la línea. El error debe ser cero (0):\n",
    "print(calculate_error(1, 0, (3, 3)))\n",
    "\n",
    "#El punto (3, 4) debería estar a 1 unidad de distancia de la línea y = x:\n",
    "print(calculate_error(1, 0, (3, 4)))\n",
    "\n",
    "#El punto (3, 3) debería estar a 1 unidad de distancia de la línea y = x - 1:\n",
    "print(calculate_error(1, -1, (3, 3)))\n",
    "\n",
    "#El punto (3, 3) debería estar a 5 unidades de distancia de la línea y = -x + 1:\n",
    "print(calculate_error(-1, 1, (3, 3)))"
   ]
  },
  {
   "cell_type": "markdown",
   "metadata": {
    "collapsed": true,
    "id": "1jxcFWKQm6LT"
   },
   "source": [
    "Los datos de velocidad y energía recolectados por los drones de Robotnik han sido almacenados en una lista llamada `datapoints`:"
   ]
  },
  {
   "cell_type": "code",
   "execution_count": null,
   "metadata": {
    "id": "hcwbW0Ldm6LU"
   },
   "outputs": [],
   "source": [
    "datapoints = [(1, 2), (2, 0), (3, 4), (4, 4), (5, 3)]"
   ]
  },
  {
   "cell_type": "markdown",
   "metadata": {
    "collapsed": true,
    "id": "WL0OSMlXm6LV"
   },
   "source": [
    "El primer registro, `(1, 2)`, significa que el erizo produjo una cantidad de energía de $2 GJ$ ($1 GJ = 277.8 kWh$) a una velocidad de $1 m/s$. A una velocidad de $4 m/s$ produjo $4 GJ$. \n",
    "\n",
    "A medida que buscamos una línea que se ajuste a estos datos, necesitaremos una función llamada `calculate_all_error`, que toma la `m` y la `b` que describe una línea, y un conjunto de datos `datapoints`. \n",
    "\n",
    "La función `calculate_all_error` debería iterar a través de cada `point`en `points` y calcular el error de ese punto hacia la línea (usando `calculate_error`). La función debe mantener un acumulador del error total, y luego retornar este valor al terminar de evaluar todos los puntos. "
   ]
  },
  {
   "cell_type": "code",
   "execution_count": null,
   "metadata": {
    "id": "qwzPAHFcm6LW"
   },
   "outputs": [],
   "source": [
    "def calculate_all_error(m, b, datapoints):\n",
    "    \n",
    "    errortotal = 0\n",
    "    for point in range(0, len(datapoints)):\n",
    "        calerror = calculate_error(m, b, datapoints[point])\n",
    "        errortotal += calerror\n",
    "    return errortotal"
   ]
  },
  {
   "cell_type": "markdown",
   "metadata": {
    "id": "CpHfWBRhm6LX"
   },
   "source": [
    "Probemos la función:"
   ]
  },
  {
   "cell_type": "code",
   "execution_count": 2,
   "metadata": {
    "id": "ENQY_hEtm6LX"
   },
   "outputs": [
    {
     "ename": "NameError",
     "evalue": "name 'calculate_all_error' is not defined",
     "output_type": "error",
     "traceback": [
      "\u001b[1;31m---------------------------------------------------------------------------\u001b[0m",
      "\u001b[1;31mNameError\u001b[0m                                 Traceback (most recent call last)",
      "Input \u001b[1;32mIn [2]\u001b[0m, in \u001b[0;36m<cell line: 3>\u001b[1;34m()\u001b[0m\n\u001b[0;32m      1\u001b[0m \u001b[38;5;66;03m#Cada punto en este conjunto se encuentra sobre la línea y=x, por lo que el error total debería ser cero (0):\u001b[39;00m\n\u001b[0;32m      2\u001b[0m datapoints \u001b[38;5;241m=\u001b[39m [(\u001b[38;5;241m1\u001b[39m, \u001b[38;5;241m1\u001b[39m), (\u001b[38;5;241m3\u001b[39m, \u001b[38;5;241m3\u001b[39m), (\u001b[38;5;241m5\u001b[39m, \u001b[38;5;241m5\u001b[39m), (\u001b[38;5;241m-\u001b[39m\u001b[38;5;241m1\u001b[39m, \u001b[38;5;241m-\u001b[39m\u001b[38;5;241m1\u001b[39m)]\n\u001b[1;32m----> 3\u001b[0m \u001b[38;5;28mprint\u001b[39m(\u001b[43mcalculate_all_error\u001b[49m(\u001b[38;5;241m1\u001b[39m, \u001b[38;5;241m0\u001b[39m, datapoints))\n\u001b[0;32m      5\u001b[0m \u001b[38;5;66;03m#Cada punto en este conjunto está a 1 unidad de distancia de y = x + 1, por lo que el error total debería ser de cuatro (4):\u001b[39;00m\n\u001b[0;32m      6\u001b[0m datapoints \u001b[38;5;241m=\u001b[39m [(\u001b[38;5;241m1\u001b[39m, \u001b[38;5;241m1\u001b[39m), (\u001b[38;5;241m3\u001b[39m, \u001b[38;5;241m3\u001b[39m), (\u001b[38;5;241m5\u001b[39m, \u001b[38;5;241m5\u001b[39m), (\u001b[38;5;241m-\u001b[39m\u001b[38;5;241m1\u001b[39m, \u001b[38;5;241m-\u001b[39m\u001b[38;5;241m1\u001b[39m)]\n",
      "\u001b[1;31mNameError\u001b[0m: name 'calculate_all_error' is not defined"
     ]
    }
   ],
   "source": [
    "#Cada punto en este conjunto se encuentra sobre la línea y=x, por lo que el error total debería ser cero (0):\n",
    "datapoints = [(1, 1), (3, 3), (5, 5), (-1, -1)]\n",
    "print(calculate_all_error(1, 0, datapoints))\n",
    "\n",
    "#Cada punto en este conjunto está a 1 unidad de distancia de y = x + 1, por lo que el error total debería ser de cuatro (4):\n",
    "datapoints = [(1, 1), (3, 3), (5, 5), (-1, -1)]\n",
    "print(calculate_all_error(1, 1, datapoints))\n",
    "\n",
    "#Cada punto en este conjunto está a 1 unidad de distancia de y = x - 1, por lo que el error total debería ser de cuatro (4):\n",
    "datapoints = [(1, 1), (3, 3), (5, 5), (-1, -1)]\n",
    "print(calculate_all_error(1, -1, datapoints))\n",
    "\n",
    "#Los puntos en este conjunto están a 1, 5, 9, y 3 unidades de distancia de y = -x + 1, respectivamente, \n",
    "#por lo que el error total debería ser de 1 + 5 + 9 + 3 = 18\n",
    "datapoints = [(1, 1), (3, 3), (5, 5), (-1, -1)]\n",
    "print(calculate_all_error(-1, 1, datapoints))\n",
    "\n"
   ]
  },
  {
   "cell_type": "markdown",
   "metadata": {
    "id": "od89UvHsm6LY"
   },
   "source": [
    "Robotnik parece satisfecho. Parece que ya tenemos una función que toma una línea y los datos de los drones, y retornar qué tanto error se produce cuando tratamos de encajar la línea con los datos. \n",
    "\n",
    "El siguiente paso es encontrar la `m` y la `b` que minimiza este error, y así, la que mejor se ajusta a los datos."
   ]
  },
  {
   "cell_type": "markdown",
   "metadata": {
    "id": "9vN97L_Qm6LY"
   },
   "source": [
    "## Parte 2: Probando pendientes e interceptos"
   ]
  },
  {
   "cell_type": "markdown",
   "metadata": {
    "id": "XTGI6ecOm6LZ"
   },
   "source": [
    "Robotnik considera que la mejor forma de encontrar la línea que mejor se ajusta a los datos es a punta de ensayo y error. Para esto, se debe probar muchas pendientes diferentes (valores de `m`) y muchos interceptos diferentes (valores de `b`), y ver cuál de ellos produce el error más pequeño para los registros de los drones. \n",
    "\n",
    "Usando list comprehension, crea una lista de los posibles `m` a probar. Haz que la lisa `possible_ms` vaya de -10 a 10 (inclusiva) en incrementos de 0.1.\n",
    "\n",
    "Pista: (para ver la pista, haz doble clic en la celda para ver el texto oculto) \n",
    "<span style=\"visibility: hidden;\">\n",
    "  puedes atravesar los valores en range(-100, 101) y multiplicar cada uno por 0.1\n",
    "</span>"
   ]
  },
  {
   "cell_type": "code",
   "execution_count": null,
   "metadata": {
    "id": "Dx3yJKJFm6LZ"
   },
   "outputs": [],
   "source": [
    "# possible_ms = []\n",
    "possible_ms = [i*0.1 for i in range(-10, 10)]"
   ]
  },
  {
   "cell_type": "markdown",
   "metadata": {
    "id": "pC7hbi64m6La"
   },
   "source": [
    "Ahora, crea una lista de los posibles `b` (`possible_bs`) entre -20 y 20 (inclusivo), en pasos de 0.1:"
   ]
  },
  {
   "cell_type": "code",
   "execution_count": null,
   "metadata": {
    "id": "3VjQWy6Cm6La"
   },
   "outputs": [],
   "source": [
    "# possible_bs = []\n",
    "possible_bs = [i*0.1 for i in range(-20, 20)]"
   ]
  },
  {
   "cell_type": "markdown",
   "metadata": {
    "id": "wphxD026m6Lb"
   },
   "source": [
    "Para encontrar el error más pequeño, primero tenemos que crear todas las líneas posibles (`y = mx + b`) a partir de todas las `m` y las `b` posibles (`possible_ms` y `possible_bs`). Después, tenemos que evaluar qué línea produce el menor error total con el conjunto de datos de los registros de los drones (`datapoints`)\n",
    "\n",
    "Para esto:\n",
    "1. Crea las variables que estaremos optimizando:\n",
    "    * `smallest_error` - debería comenzar en el infinito (`float(\"inf\")`) tal que cualquier error que obtengamos inicialmente sea más pequeño que `smallest_error`.\n",
    "    * `best_m` - puede comenzar en cero (0).\n",
    "    * `best_b` - puede comenzar en cero (0).\n",
    "2. Itera a través de cada elemento `m` en `possible_ms`.\n",
    "3. Para cada valor de `m`, toma cada valor de `b` en `possible_bs`.\n",
    "4. Si el valor retornado de la función `calculate_all_error` para un valor de `m`, `b` y los `datapoints` es menor que el `smallest_error` actual, cambia los valores de `best_m`, `best_b` y `smallest_error`.\n",
    "\n",
    "Al finalizar los ciclos anidados, la variable `smallest_error` debería tener el menor error encontrado, y `best_m` y `best_b` deberían ser los valores que producen el menor error. "
   ]
  },
  {
   "cell_type": "code",
   "execution_count": null,
   "metadata": {
    "id": "gJzB664xm6Lb"
   },
   "outputs": [],
   "source": [
    "# Calcular smallest_error, best_m y best_b\n",
    "smallest_error = float(\"inf\")\n",
    "\n",
    "best_m = 0\n",
    "best_b = 0\n",
    "\n",
    "for m in possible_ms:\n",
    "    for b in possible_bs:\n",
    "        smallest_error_actual = calculate_all_error(m, b, datapoints)\n",
    "        if smallest_error_actual < smallest_error:\n",
    "            smallest_error = smallest_error_actual\n",
    "            best_m = m\n",
    "            best_b = b\n",
    "            \n",
    "print(smallest_error,best_m, best_b)"
   ]
  },
  {
   "cell_type": "markdown",
   "metadata": {
    "id": "OQdbTiKhm6Lb"
   },
   "source": [
    "## Parte 3: Predicciones del Modelo"
   ]
  },
  {
   "cell_type": "markdown",
   "metadata": {
    "id": "Z9Gnq9qSm6Lc"
   },
   "source": [
    "Utilizando los valores de `m` y `b` arrojados por nuestro algoritmo para encontrar la línea de mejor ajuste a los datos recopilados por los drones, grafica la línea energía-velocidad utilizando los siguientes comandos:\n",
    "```python\n",
    "from matplotlib import pyplot as plt\n",
    "x = [i*0.5 for i in range(0,101)]\n",
    "y = [m*x + b for i in x]\n",
    "plt.plot(x, y)\n",
    "plt.show()\n",
    "\n",
    "```\n",
    "No olvide cambiar los valores de `m` y `b`."
   ]
  },
  {
   "cell_type": "code",
   "execution_count": 1,
   "metadata": {
    "id": "CCRmXsJBm6Lc"
   },
   "outputs": [
    {
     "name": "stderr",
     "output_type": "stream",
     "text": [
      "Matplotlib is building the font cache; this may take a moment.\n"
     ]
    },
    {
     "ename": "NameError",
     "evalue": "name 'm' is not defined",
     "output_type": "error",
     "traceback": [
      "\u001b[1;31m---------------------------------------------------------------------------\u001b[0m",
      "\u001b[1;31mNameError\u001b[0m                                 Traceback (most recent call last)",
      "Input \u001b[1;32mIn [1]\u001b[0m, in \u001b[0;36m<cell line: 5>\u001b[1;34m()\u001b[0m\n\u001b[0;32m      2\u001b[0m \u001b[38;5;28;01mfrom\u001b[39;00m \u001b[38;5;21;01mmatplotlib\u001b[39;00m \u001b[38;5;28;01mimport\u001b[39;00m pyplot \u001b[38;5;28;01mas\u001b[39;00m plt\n\u001b[0;32m      4\u001b[0m x \u001b[38;5;241m=\u001b[39m [i\u001b[38;5;241m*\u001b[39m\u001b[38;5;241m0.5\u001b[39m \u001b[38;5;28;01mfor\u001b[39;00m i \u001b[38;5;129;01min\u001b[39;00m \u001b[38;5;28mrange\u001b[39m(\u001b[38;5;241m0\u001b[39m,\u001b[38;5;241m101\u001b[39m)]\n\u001b[1;32m----> 5\u001b[0m y \u001b[38;5;241m=\u001b[39m [m\u001b[38;5;241m*\u001b[39mi \u001b[38;5;241m+\u001b[39m \u001b[38;5;241m0\u001b[39m \u001b[38;5;28;01mfor\u001b[39;00m i \u001b[38;5;129;01min\u001b[39;00m x]\n\u001b[0;32m      6\u001b[0m plt\u001b[38;5;241m.\u001b[39mplot(x, y)\n\u001b[0;32m      7\u001b[0m plt\u001b[38;5;241m.\u001b[39mshow()\n",
      "Input \u001b[1;32mIn [1]\u001b[0m, in \u001b[0;36m<listcomp>\u001b[1;34m(.0)\u001b[0m\n\u001b[0;32m      2\u001b[0m \u001b[38;5;28;01mfrom\u001b[39;00m \u001b[38;5;21;01mmatplotlib\u001b[39;00m \u001b[38;5;28;01mimport\u001b[39;00m pyplot \u001b[38;5;28;01mas\u001b[39;00m plt\n\u001b[0;32m      4\u001b[0m x \u001b[38;5;241m=\u001b[39m [i\u001b[38;5;241m*\u001b[39m\u001b[38;5;241m0.5\u001b[39m \u001b[38;5;28;01mfor\u001b[39;00m i \u001b[38;5;129;01min\u001b[39;00m \u001b[38;5;28mrange\u001b[39m(\u001b[38;5;241m0\u001b[39m,\u001b[38;5;241m101\u001b[39m)]\n\u001b[1;32m----> 5\u001b[0m y \u001b[38;5;241m=\u001b[39m [\u001b[43mm\u001b[49m\u001b[38;5;241m*\u001b[39mi \u001b[38;5;241m+\u001b[39m \u001b[38;5;241m0\u001b[39m \u001b[38;5;28;01mfor\u001b[39;00m i \u001b[38;5;129;01min\u001b[39;00m x]\n\u001b[0;32m      6\u001b[0m plt\u001b[38;5;241m.\u001b[39mplot(x, y)\n\u001b[0;32m      7\u001b[0m plt\u001b[38;5;241m.\u001b[39mshow()\n",
      "\u001b[1;31mNameError\u001b[0m: name 'm' is not defined"
     ]
    }
   ],
   "source": [
    "# Gráfica de la línea de mejor ajuste\n",
    "from matplotlib import pyplot as plt\n",
    "\n",
    "x = [i*0.5 for i in range(0,101)]\n",
    "y = [m*i + 0 for i in x]\n",
    "plt.plot(x, y)\n",
    "plt.show()"
   ]
  },
  {
   "cell_type": "code",
   "execution_count": null,
   "metadata": {},
   "outputs": [],
   "source": []
  }
 ],
 "metadata": {
  "colab": {
   "name": "Taller_2.ipynb",
   "provenance": []
  },
  "kernelspec": {
   "display_name": "Python 3 (ipykernel)",
   "language": "python",
   "name": "python3"
  },
  "language_info": {
   "codemirror_mode": {
    "name": "ipython",
    "version": 3
   },
   "file_extension": ".py",
   "mimetype": "text/x-python",
   "name": "python",
   "nbconvert_exporter": "python",
   "pygments_lexer": "ipython3",
   "version": "3.9.12"
  }
 },
 "nbformat": 4,
 "nbformat_minor": 1
}
